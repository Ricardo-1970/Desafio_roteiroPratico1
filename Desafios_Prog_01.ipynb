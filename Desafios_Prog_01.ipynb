{
  "nbformat": 4,
  "nbformat_minor": 0,
  "metadata": {
    "colab": {
      "provenance": [],
      "authorship_tag": "ABX9TyOB3Chr5txuceKVUeyj23vq",
      "include_colab_link": true
    },
    "kernelspec": {
      "name": "python3",
      "display_name": "Python 3"
    },
    "language_info": {
      "name": "python"
    }
  },
  "cells": [
    {
      "cell_type": "markdown",
      "metadata": {
        "id": "view-in-github",
        "colab_type": "text"
      },
      "source": [
        "<a href=\"https://colab.research.google.com/github/Ricardo-1970/Desafio_roteiroPratico1/blob/main/Desafios_Prog_01.ipynb\" target=\"_parent\"><img src=\"https://colab.research.google.com/assets/colab-badge.svg\" alt=\"Open In Colab\"/></a>"
      ]
    },
    {
      "cell_type": "markdown",
      "source": [
        "## Exercício 1"
      ],
      "metadata": {
        "id": "tahPKIRUJIdq"
      }
    },
    {
      "cell_type": "code",
      "source": [
        "nome = \"Ricardo\"\n",
        "idade = 54\n",
        "cidade = \"São Bernardo do Campo\"\n",
        "print(f\"Resposta: olá meu nome é {nome}.Eu tenho {idade} anos e moro em {cidade}\")"
      ],
      "metadata": {
        "colab": {
          "base_uri": "https://localhost:8080/"
        },
        "id": "3xR7qnCHJNNx",
        "outputId": "c10b38cb-7e2b-4a4d-8d8a-770058c4765e"
      },
      "execution_count": 7,
      "outputs": [
        {
          "output_type": "stream",
          "name": "stdout",
          "text": [
            "Resposta: olá meu nome é Ricardo.Eu tenho 54 anos e moro em São Bernardo do Campo\n"
          ]
        }
      ]
    },
    {
      "cell_type": "markdown",
      "source": [
        "## Exercício 2"
      ],
      "metadata": {
        "id": "f7RgmOhbdypx"
      }
    },
    {
      "cell_type": "code",
      "source": [
        "numeros = [10,20,30,40,50]\n",
        "soma = sum(numeros)\n",
        "quantidade = len(numeros)\n",
        "media = soma/quantidade\n",
        "print(f\"Resposta: a média dos valores da lista é:{media}.\")"
      ],
      "metadata": {
        "colab": {
          "base_uri": "https://localhost:8080/"
        },
        "id": "w-mupraQeHmL",
        "outputId": "fc2fb977-d4ca-4e6a-dd4a-9e88885f70d7"
      },
      "execution_count": 5,
      "outputs": [
        {
          "output_type": "stream",
          "name": "stdout",
          "text": [
            "Resposta: a média dos valores da lista é:30.0.\n"
          ]
        }
      ]
    },
    {
      "cell_type": "markdown",
      "source": [
        "## Exercício 3"
      ],
      "metadata": {
        "id": "BJiqVQakfyyk"
      }
    },
    {
      "cell_type": "code",
      "source": [
        "gastos_Joao = [300,500,200,800]\n",
        "gastos_Pedro = [200,400,500,700]\n",
        "\n",
        "soma_J = sum(gastos_Joao)\n",
        "soma_P = sum(gastos_Pedro)\n",
        "\n",
        "if (soma_J > soma_P):\n",
        "  print(f\"O maior gasto mensal foi de João, com o valor de {soma_J} Reais.\")\n",
        "\n",
        "elif (soma_J < soma_P):\n",
        "  print(f\"O maior gasto mensal foi de Pedro, com o valor de {soma_P} Reais.\")\n",
        "\n",
        "else :\n",
        "  print(f\"\"\"\n",
        "  Resposta: Pedro gastou {soma_P} Reais,\n",
        "            e João também gastou {soma_J} Reais,\n",
        "            portanto ambos gastaram o mesmo\n",
        "            valor.\n",
        "\"\"\")\n",
        "\n",
        "\n"
      ],
      "metadata": {
        "colab": {
          "base_uri": "https://localhost:8080/"
        },
        "id": "IeS4EjDof1kp",
        "outputId": "e902820f-cab7-4e0c-8f4f-80a7a221b21f"
      },
      "execution_count": 6,
      "outputs": [
        {
          "output_type": "stream",
          "name": "stdout",
          "text": [
            "\n",
            "  Resposta: Pedro gastou 1800 Reais,\n",
            "            e João também gastou 1800 Reais,\n",
            "            portanto ambos gastaram o mesmo\n",
            "            valor.\n",
            "\n"
          ]
        }
      ]
    }
  ]
}